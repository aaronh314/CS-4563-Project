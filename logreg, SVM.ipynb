{
 "cells": [
  {
   "source": [
    "from sklearn.preprocessing import StandardScaler, MinMaxScaler\n",
    "from sklearn.linear_model import LogisticRegression\n",
    "from sklearn import svm\n",
    "\n",
    "import numpy as np\n",
    "import matplotlib.pyplot as plt \n",
    "import pandas as pd\n",
    "from jupyterthemes import jtplot\n",
    "\n",
    "\n",
    "jtplot.style('monokai') # dark background for matplotlib"
   ],
   "cell_type": "code",
   "metadata": {},
   "execution_count": null,
   "outputs": []
  },
  {
   "source": [
    "# Load and Scale Data"
   ],
   "cell_type": "markdown",
   "metadata": {}
  },
  {
   "source": [
    "## Load"
   ],
   "cell_type": "markdown",
   "metadata": {}
  },
  {
   "cell_type": "code",
   "execution_count": null,
   "metadata": {},
   "outputs": [],
   "source": [
    "pddata_train = pd.read_csv('Data/sign_mnist_train.csv')\n",
    "data_train = pddata_train.values\n",
    "data_train_X = data_train[:,1:]\n",
    "data_train_y = data_train[:,:1].reshape(-1) # turn to 1d\n",
    "\n",
    "\n",
    "pddata_test = pd.read_csv('Data/sign_mnist_test.csv')\n",
    "data_test = pddata_test.values\n",
    "data_test_X = data_test[:, 1:]\n",
    "data_test_y = data_test[:, :1].reshape(-1) # turn to 1d"
   ]
  },
  {
   "source": [
    "## Scale"
   ],
   "cell_type": "markdown",
   "metadata": {}
  },
  {
   "cell_type": "code",
   "execution_count": null,
   "metadata": {},
   "outputs": [],
   "source": [
    "mmscaler = MinMaxScaler()\n",
    "mmscaled_train_X = mmscaler.fit_transform(data_train_X)\n",
    "mmscaled_test_X = mmscaler.transform(data_test_X)\n",
    "\n",
    "stdscaler = StandardScaler()\n",
    "stdscaled_train_X = stdscaler.fit_transform(data_train_X)\n",
    "stdscaled_test_X = stdscaler.transform(data_test_X)"
   ]
  },
  {
   "source": [
    "# Logistic Regression"
   ],
   "cell_type": "markdown",
   "metadata": {}
  },
  {
   "source": [
    "def logreg(penalty='l2', solver='lbfgs', r=None, use_minmax_dataset=True, verbose=False) -> None:\n",
    "    _iter = 100000\n",
    "    # use minmax or standard scaling\n",
    "    _train_X = mmscaled_train_X if use_minmax_dataset else stdscaled_train_X\n",
    "    _test_X = mmscaled_test_X if use_minmax_dataset else stdscaled_test_X\n",
    "\n",
    "    # place to store results\n",
    "    train_accs = []\n",
    "    test_accs = []\n",
    "    cs = []\n",
    "\n",
    "    for exponent in (range(-3,3+1) if r is None else r):\n",
    "        if verbose:\n",
    "            print(f'loop: {exponent}')\n",
    "            \n",
    "        c_value = 10**exponent\n",
    "        cs.append(c_value) # for graphing\n",
    "\n",
    "        logreg = LogisticRegression(max_iter=_iter, C=c_value, penalty=penalty, solver=solver, verbose=verbose)\n",
    "        logreg.fit(_train_X, data_train_y.reshape(-1)) # fit model \n",
    "\n",
    "        # if verbose:\n",
    "        #     print('fitting done')\n",
    "\n",
    "        # store results\n",
    "        train_accs.append(np.mean(np.equal(logreg.predict(_train_X), data_train_y))) # train accuuracy\n",
    "        test_accs.append(np.mean(np.equal(logreg.predict(_test_X), data_test_y)))  # test accuracy\n",
    "\n",
    "        # if verbose:\n",
    "        #     print(f\"\\ttrain: {train_accs[-1]}\")\n",
    "        #     print(f\"\\ttest: {test_accs[-1]}\")\n",
    "\n",
    "    # no reg\n",
    "    cs.append(10000000)\n",
    "    logreg = LogisticRegression(max_iter=_iter, C=10000000, penalty=penalty, solver=solver, verbose=verbose)\n",
    "    logreg.fit(_train_X, data_train_y.reshape(-1)) # fit model \n",
    "    train_accs.append(np.mean(np.equal(logreg.predict(_train_X), data_train_y))) # train accuuracy\n",
    "    test_accs.append(np.mean(np.equal(logreg.predict(_test_X), data_test_y)))  # test accuracy\n",
    "\n",
    "\n",
    "    pd.DataFrame([cs, train_accs, test_accs]).transpose().to_csv(f'Figures/logreg_{penalty}_{\"minmax\" if use_minmax_dataset else \"std\"}_results.csv', header=False, index=False)\n",
    "\n",
    "    \n",
    "    plt.title(f'Acc v. C value; Log. Reg. {penalty} regularization, {\"minmax\" if use_minmax_dataset else \"std\"} scaling')\n",
    "    plt.xlabel(\"C values\")\n",
    "    plt.ylabel(\"Accuracy\")\n",
    "    # plt.xscale('log') # don't need log scaling if not displaying x-axis\n",
    "    plt.plot(cs, train_accs, label='train')\n",
    "    plt.plot(cs, test_accs, label='test')\n",
    "    plt.legend(loc='lower right')\n",
    "    plt.tick_params(\n",
    "        axis='x',          # changes apply to the x-axis\n",
    "        which='both',      # both major and minor ticks are affected\n",
    "        bottom=False,      # ticks along the bottom edge are off\n",
    "        top=False,         # ticks along the top edge are off\n",
    "        labelbottom=False\n",
    "        )\n",
    "    plt.savefig(f'Figures/logreg_{penalty}_{\"minmax\" if use_minmax_dataset else \"std\"}_results.png', dpi=500)\n",
    "    plt.show()\n",
    "\n",
    "    return train_accs, test_accs, cs"
   ],
   "cell_type": "code",
   "metadata": {},
   "execution_count": null,
   "outputs": []
  },
  {
   "cell_type": "code",
   "execution_count": null,
   "metadata": {},
   "outputs": [],
   "source": [
    "logreg_l2_minmax_results = logreg(penalty='l2', use_minmax_dataset=True, verbose=True)"
   ]
  },
  {
   "cell_type": "code",
   "execution_count": null,
   "metadata": {},
   "outputs": [],
   "source": [
    "logreg_l2_std_results = logreg(penalty='l2', use_minmax_dataset=False, verbose=True)"
   ]
  },
  {
   "cell_type": "code",
   "execution_count": null,
   "metadata": {},
   "outputs": [],
   "source": [
    "logreg_l1_minmax_results = logreg(penalty='l1', solver='saga', use_minmax_dataset=True, verbose=True)"
   ]
  },
  {
   "cell_type": "code",
   "execution_count": null,
   "metadata": {},
   "outputs": [],
   "source": [
    "logreg_l1_std_results = logreg(penalty='l1', solver='saga', use_minmax_dataset=False, verbose=True)"
   ]
  },
  {
   "source": [
    "# Support Vector Machine"
   ],
   "cell_type": "markdown",
   "metadata": {}
  },
  {
   "cell_type": "code",
   "execution_count": null,
   "metadata": {},
   "outputs": [],
   "source": [
    "def SVM(kernel='linear', r=None, use_minmax_dataset=True, degree=2, verbose: bool=False) -> None:\n",
    "    _iter = 100000\n",
    "    # use minmax or standard scaler\n",
    "    _train_X = mmscaled_train_X if use_minmax_dataset else stdscaled_train_X\n",
    "    _test_X = mmscaled_test_X if use_minmax_dataset else stdscaled_test_X\n",
    "\n",
    "    # store results, to graph\n",
    "    train_accs = []\n",
    "    test_accs = []\n",
    "    cs = []\n",
    "    \n",
    "    for exponent in (range(-3,3+1) if r is None else r):\n",
    "        if verbose:\n",
    "            print(f'loop: {exponent}')\n",
    "            \n",
    "        c = 10**exponent\n",
    "        cs.append(c) # store, to graph\n",
    "\n",
    "        S = svm.SVC(probability=False, max_iter=_iter, kernel=kernel, C=c, degree=degree, verbose=verbose)\n",
    "        \n",
    "        S.fit(_train_X, data_train_y)\n",
    "\n",
    "        train_accs.append(np.mean(np.equal(S.predict(_train_X), data_train_y))) # train accuuracy\n",
    "        test_accs.append(np.mean(np.equal(S.predict(_test_X), data_test_y)))  # test accuracy\n",
    "\n",
    "\n",
    "    # no reg\n",
    "    cs.append(10000000)\n",
    "    S = svm.SVC(probability=False, max_iter=_iter, kernel=kernel, C=10000000, degree=degree, verbose=verbose)\n",
    "    S.fit(_train_X, data_train_y.reshape(-1)) # fit model \n",
    "    train_accs.append(np.mean(np.equal(S.predict(_train_X), data_train_y))) # train accuuracy\n",
    "    test_accs.append(np.mean(np.equal(S.predict(_test_X), data_test_y)))  # test accuracy\n",
    "\n",
    "\n",
    "    pd.DataFrame([cs, train_accs, test_accs]).transpose().to_csv(f'Figures/svm_{f\"polyD{degree}\" if kernel==\"poly\" else kernel}_{\"minmax\" if use_minmax_dataset else \"std\"}_results.csv', header=False, index=False)\n",
    "\n",
    "    plt.title(f'Acc v. C value; SVM {f\"poly degree {degree}\" if kernel==\"poly\" else kernel} kernel,  {\"minmax\" if use_minmax_dataset else \"std\"} scaling')\n",
    "    plt.xlabel(\"C values\")\n",
    "    plt.ylabel(\"Accuracy\")\n",
    "    # plt.xscale('log') # don't need log scaling if not displaying x-axis\n",
    "    plt.plot(cs, train_accs, label='train')\n",
    "    plt.plot(cs, test_accs, label='test')\n",
    "    plt.legend(loc='lower right')\n",
    "    plt.tick_params(\n",
    "        axis='x',          # changes apply to the x-axis\n",
    "        which='both',      # both major and minor ticks are affected\n",
    "        bottom=False,      # ticks along the bottom edge are off\n",
    "        top=False,         # ticks along the top edge are off\n",
    "        labelbottom=False\n",
    "        )\n",
    "    plt.savefig(f'Figures/svm_{f\"polyD{degree}\" if kernel==\"poly\" else kernel}_{\"minmax\" if use_minmax_dataset else \"std\"}_results.png', dpi=500)\n",
    "    plt.show()\n",
    "\n",
    "    return train_accs, test_accs, cs\n"
   ]
  },
  {
   "cell_type": "code",
   "execution_count": null,
   "metadata": {},
   "outputs": [],
   "source": [
    "svm_linear_minmax_results = SVM(kernel='linear', use_minmax_dataset=True,verbose=True)"
   ]
  },
  {
   "cell_type": "code",
   "execution_count": null,
   "metadata": {},
   "outputs": [],
   "source": [
    "svm_linear_std_results = SVM(kernel='linear', use_minmax_dataset=False,verbose=True)"
   ]
  },
  {
   "cell_type": "code",
   "execution_count": null,
   "metadata": {},
   "outputs": [],
   "source": [
    "svm_rbf_minmax_results = SVM(kernel='rbf', use_minmax_dataset=True,verbose=True)"
   ]
  },
  {
   "cell_type": "code",
   "execution_count": null,
   "metadata": {},
   "outputs": [],
   "source": [
    "svm_rbf_std_results = SVM(kernel='rbf', use_minmax_dataset=False,verbose=True)"
   ]
  },
  {
   "cell_type": "code",
   "execution_count": null,
   "metadata": {},
   "outputs": [],
   "source": [
    "svm_polyd1_minmax_results = SVM(kernel='poly', degree=1, use_minmax_dataset=True, verbose=True)"
   ]
  },
  {
   "cell_type": "code",
   "execution_count": null,
   "metadata": {},
   "outputs": [],
   "source": [
    "svm_polyd2_minmax_results = SVM(kernel='poly', degree=2, use_minmax_dataset=True, verbose=True)"
   ]
  },
  {
   "cell_type": "code",
   "execution_count": null,
   "metadata": {},
   "outputs": [],
   "source": [
    "svm_polyd3_minmax_results = SVM(kernel='poly', degree=3, use_minmax_dataset=True, verbose=True)"
   ]
  },
  {
   "cell_type": "code",
   "execution_count": null,
   "metadata": {},
   "outputs": [],
   "source": [
    "svm_polyd4_minmax_results = SVM(kernel='poly', degree=4, use_minmax_dataset=True, verbose=True)"
   ]
  },
  {
   "cell_type": "code",
   "execution_count": null,
   "metadata": {},
   "outputs": [],
   "source": [
    "svm_polyd1_std_results = SVM(kernel='poly', degree=1, use_minmax_dataset=False,verbose=True)"
   ]
  },
  {
   "cell_type": "code",
   "execution_count": null,
   "metadata": {},
   "outputs": [],
   "source": [
    "svm_polyd2_std_results = SVM(kernel='poly', degree=2, use_minmax_dataset=False,verbose=True)"
   ]
  },
  {
   "cell_type": "code",
   "execution_count": null,
   "metadata": {},
   "outputs": [],
   "source": [
    "svm_polyd3_std_results = SVM(kernel='poly', degree=3, use_minmax_dataset=False,verbose=True)"
   ]
  },
  {
   "cell_type": "code",
   "execution_count": null,
   "metadata": {},
   "outputs": [],
   "source": [
    "svm_polyd4_std_results = SVM(kernel='poly', degree=4, use_minmax_dataset=False,verbose=True)"
   ]
  }
 ],
 "metadata": {
  "kernelspec": {
   "name": "python388jvsc74a57bd0d3ccfb583e302a80518de5a9c6cd936189f69b42c0c829b59bd0879bc45429c5",
   "display_name": "Python 3.8.8 64-bit (conda)"
  },
  "language_info": {
   "codemirror_mode": {
    "name": "ipython",
    "version": 3
   },
   "file_extension": ".py",
   "mimetype": "text/x-python",
   "name": "python",
   "nbconvert_exporter": "python",
   "pygments_lexer": "ipython3",
   "version": "3.8.8"
  }
 },
 "nbformat": 4,
 "nbformat_minor": 2
}