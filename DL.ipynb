{
 "cells": [
  {
   "cell_type": "code",
   "execution_count": 1,
   "id": "respiratory-greenhouse",
   "metadata": {},
   "outputs": [],
   "source": [
    "from sklearn.preprocessing import *\n",
    "from tensorflow.keras.layers import *\n",
    "from tensorflow.keras.models import *\n",
    "from tensorflow.keras.optimizers import *\n",
    "from tensorflow.keras.regularizers import l1, l2\n",
    "# from sklearn.metrics import accuracy_score\n",
    "\n",
    "from tensorflow.keras.callbacks import EarlyStopping\n",
    "\n",
    "from sklearn.model_selection import train_test_split\n",
    "\n",
    "import sklearn\n",
    "import numpy as np\n",
    "import matplotlib.pyplot as plt \n",
    "import pandas as pd"
   ]
  },
  {
   "cell_type": "code",
   "execution_count": 2,
   "id": "collaborative-drama",
   "metadata": {},
   "outputs": [],
   "source": [
    "def to_cat(y, num_cats):\n",
    "    res = []\n",
    "    for i in range(y.shape[0]):\n",
    "        label = [0]*num_cats\n",
    "        label[y[i]] = 1\n",
    "        res.append(label)\n",
    "    return np.array(res)"
   ]
  },
  {
   "cell_type": "code",
   "execution_count": 3,
   "id": "eligible-liechtenstein",
   "metadata": {},
   "outputs": [],
   "source": [
    "def accuracy(y_pred, y):\n",
    "    num_correct = 0\n",
    "    for i in range(y_pred.shape[0]):\n",
    "        num_correct += y_pred[i].argmax() == y[i].argmax()\n",
    "    return num_correct / y_pred.shape[0]"
   ]
  },
  {
   "cell_type": "markdown",
   "id": "verbal-administration",
   "metadata": {},
   "source": [
    "# Load and Scale Data"
   ]
  },
  {
   "cell_type": "code",
   "execution_count": 4,
   "id": "sixth-practitioner",
   "metadata": {},
   "outputs": [],
   "source": [
    "pddata_train = pd.read_csv('Data/sign_mnist_train.csv')\n",
    "data_train = pddata_train.values\n",
    "data_train_X = data_train[:,1:]\n",
    "data_train_y = data_train[:,:1].reshape(-1) # turn to 1d\n",
    "data_train_y = to_cat(data_train_y, 26)\n",
    "\n",
    "test_size = 0.1\n",
    "test_ind = int(test_size*data_train_X.shape[0])\n",
    "data_train_X, data_val_X, data_train_y, data_val_y = data_train_X[test_ind:], data_train_X[:test_ind],data_train_y[test_ind:], data_train_y[:test_ind]\n",
    "\n",
    "\n",
    "pddata_test = pd.read_csv('Data/sign_mnist_test.csv')\n",
    "data_test = pddata_test.values\n",
    "data_test_X = data_test[:, 1:]\n",
    "data_test_y = data_test[:, :1].reshape(-1) # turn to 1d\n",
    "data_test_y = to_cat(data_test_y, 26)\n",
    "\n",
    "# scaler = StandardScaler()\n",
    "# scaled_train_X = scaler.fit_transform(data_train_X)\n",
    "# scaled_test_X = scaler.transform(data_test_X)"
   ]
  },
  {
   "cell_type": "code",
   "execution_count": 5,
   "id": "bright-temple",
   "metadata": {},
   "outputs": [
    {
     "name": "stdout",
     "output_type": "stream",
     "text": [
      "There are 24710 training samples\n",
      "There are 7172 training samples\n"
     ]
    }
   ],
   "source": [
    "print(f\"There are {data_train_X.shape[0]} training samples\")\n",
    "print(f\"There are {data_test_X.shape[0]} training samples\")"
   ]
  },
  {
   "cell_type": "markdown",
   "id": "communist-setup",
   "metadata": {},
   "source": [
    "# Dense Neural Network"
   ]
  },
  {
   "cell_type": "code",
   "execution_count": 6,
   "id": "resident-change",
   "metadata": {},
   "outputs": [],
   "source": [
    "def create_dnn(num_input, layers, activations, dropouts, regularizations, optimizer):\n",
    "    model = Sequential()\n",
    "    model.add(Input(shape=(num_input,)))\n",
    "    for num_nodes, act, dr, reg in zip(layers, activations, dropouts, regularizations):\n",
    "        model.add(Dense(num_nodes, activation=act, kernel_regularizer=reg))\n",
    "        if dr != 0:\n",
    "            model.add(Dropout(dr))\n",
    "            \n",
    "    model.compile(loss='categorical_crossentropy', optimizer=optimizer, metrics=['accuracy'])\n",
    "    return model"
   ]
  },
  {
   "cell_type": "markdown",
   "id": "identical-bangladesh",
   "metadata": {},
   "source": [
    "# Testing Dense Neural Network"
   ]
  },
  {
   "cell_type": "code",
   "execution_count": 7,
   "id": "digital-sharp",
   "metadata": {},
   "outputs": [],
   "source": [
    "# layers = [26]\n",
    "# activations = ['softmax']\n",
    "# dropouts=[0, 0, 0, 0]\n",
    "# optimizer=Adam(0.01)\n",
    "# regularizations = [\n",
    "#     l2(0.01)\n",
    "# ]\n",
    "# epochs=200\n",
    "# batch_size=256\n",
    "\n",
    "# early_stop = EarlyStopping(\n",
    "#     monitor=\"loss\",\n",
    "#     min_delta=0,\n",
    "#     patience=10,\n",
    "#     verbose=0,\n",
    "#     mode=\"auto\",\n",
    "#     baseline=None,\n",
    "#     restore_best_weights=True,\n",
    "# )\n",
    "\n",
    "# model = create_dnn(data_train_X[0].shape[0], layers, activations, dropouts, regularizations, optimizer)\n",
    "\n",
    "# model.summary()\n",
    "\n",
    "# model.fit(data_train_X, data_train_y, validation_data=(data_val_X, data_val_y), epochs=epochs, batch_size=batch_size, verbose=1)"
   ]
  },
  {
   "cell_type": "code",
   "execution_count": 8,
   "id": "ceramic-blocking",
   "metadata": {},
   "outputs": [],
   "source": [
    "# model.evaluate(data_test_X, data_test_y)"
   ]
  },
  {
   "cell_type": "markdown",
   "id": "vanilla-julian",
   "metadata": {},
   "source": [
    "# Convolutional Neural Network"
   ]
  },
  {
   "cell_type": "code",
   "execution_count": 9,
   "id": "blond-biography",
   "metadata": {},
   "outputs": [],
   "source": [
    "pddata_train = pd.read_csv('Data/sign_mnist_train.csv')\n",
    "data_train = pddata_train.values\n",
    "data_train_X = data_train[:,1:]\n",
    "data_train_X = data_train_X.reshape((data_train_X.shape[0], 28,28,1))\n",
    "data_train_y = data_train[:,:1].reshape(-1) # turn to 1d\n",
    "data_train_y = to_cat(data_train_y, 26)\n",
    "\n",
    "test_size = 0.1\n",
    "test_ind = int(test_size*data_train_X.shape[0])\n",
    "data_train_X, data_val_X, data_train_y, data_val_y = data_train_X[test_ind:], data_train_X[:test_ind],data_train_y[test_ind:], data_train_y[:test_ind]\n",
    "\n",
    "\n",
    "pddata_test = pd.read_csv('Data/sign_mnist_test.csv')\n",
    "data_test = pddata_test.values\n",
    "data_test_X = data_test[:, 1:]\n",
    "data_test_X = data_test_X.reshape((data_test_X.shape[0], 28,28,1))\n",
    "data_test_y = data_test[:, :1].reshape(-1) # turn to 1d\n",
    "data_test_y = to_cat(data_test_y, 26)\n",
    "\n",
    "# scaler = StandardScaler()\n",
    "# scaled_train_X = scaler.fit_transform(data_train_X)\n",
    "# scaled_test_X = scaler.transform(data_test_X)"
   ]
  },
  {
   "cell_type": "code",
   "execution_count": 10,
   "id": "increased-procedure",
   "metadata": {},
   "outputs": [],
   "source": [
    "def create_cnn(input_shape, optimizer, regularizer):\n",
    "    model = Sequential()\n",
    "    model.add(Input(shape=input_shape))\n",
    "    model.add(Conv2D(8, 3, activation='selu', padding='same'))\n",
    "    model.add(MaxPooling2D(2))\n",
    "    model.add(Conv2D(4, 2, activation='selu', padding='same'))\n",
    "    model.add(MaxPooling2D(2))\n",
    "    model.add(Flatten())\n",
    "    model.add(Dropout(0.5))\n",
    "    model.add(Dense(26, activation='softmax', kernel_regularizer=regularizer))\n",
    "    \n",
    "    model.compile(loss='categorical_crossentropy', optimizer=optimizer, metrics=['accuracy'])\n",
    "    \n",
    "    return model"
   ]
  },
  {
   "cell_type": "code",
   "execution_count": 11,
   "id": "composed-rochester",
   "metadata": {},
   "outputs": [],
   "source": [
    "def run_model(lr, batch_size, epochs, reg):\n",
    "    model = create_cnn((28, 28,1), Adam(lr), reg)\n",
    "\n",
    "    early_stop = EarlyStopping(\n",
    "        monitor=\"loss\",\n",
    "        min_delta=0,\n",
    "        patience=10,\n",
    "        verbose=0,\n",
    "        mode=\"auto\",\n",
    "        baseline=None,\n",
    "        restore_best_weights=True,\n",
    "    )\n",
    "\n",
    "    model.fit(data_train_X, data_train_y, batch_size=batch_size, epochs=epochs, callbacks=[early_stop], verbose=0)\n",
    "    \n",
    "    results = model.evaluate(data_test_X, data_test_y)\n",
    "    return results[1]"
   ]
  },
  {
   "cell_type": "code",
   "execution_count": 14,
   "id": "loaded-polls",
   "metadata": {
    "scrolled": false
   },
   "outputs": [],
   "source": [
    "lr = np.logspace(-3, -0.5, 11)\n",
    "# acc = []\n",
    "# for l in lr:\n",
    "#     acc.append(run_model(l, 256, 200, l2(0)))"
   ]
  },
  {
   "cell_type": "code",
   "execution_count": 15,
   "id": "fixed-reconstruction",
   "metadata": {},
   "outputs": [
    {
     "name": "stdout",
     "output_type": "stream",
     "text": [
      "7172/7172 [==============================] - 1s 79us/sample - loss: 0.5407 - accuracy: 0.8164\n",
      "7172/7172 [==============================] - 0s 62us/sample - loss: 0.5257 - accuracy: 0.8302\n",
      "7172/7172 [==============================] - 0s 60us/sample - loss: 0.4844 - accuracy: 0.8618\n",
      "7172/7172 [==============================] - 1s 74us/sample - loss: 0.4335 - accuracy: 0.8726\n",
      "7172/7172 [==============================] - 1s 70us/sample - loss: 0.4218 - accuracy: 0.8851\n",
      "7172/7172 [==============================] - 1s 70us/sample - loss: 0.4903 - accuracy: 0.8855\n",
      "7172/7172 [==============================] - 0s 69us/sample - loss: 0.4192 - accuracy: 0.8996\n",
      "7172/7172 [==============================] - 0s 56us/sample - loss: 0.4665 - accuracy: 0.8682\n",
      "7172/7172 [==============================] - 0s 66us/sample - loss: 0.7515 - accuracy: 0.8021\n"
     ]
    }
   ],
   "source": [
    "batches = [4, 8, 16, 32, 64, 128, 256, 512, 1024]\n",
    "acc = []\n",
    "for b in batches:\n",
    "    acc.append(run_model(0.002, b, 200, l2(0)))"
   ]
  },
  {
   "cell_type": "code",
   "execution_count": null,
   "id": "smart-diana",
   "metadata": {},
   "outputs": [],
   "source": []
  },
  {
   "cell_type": "code",
   "execution_count": 29,
   "id": "subject-verification",
   "metadata": {},
   "outputs": [
    {
     "name": "stdout",
     "output_type": "stream",
     "text": [
      "7172/7172 [==============================] - 0s 58us/sample - loss: 0.4093 - accuracy: 0.8721\n",
      "7172/7172 [==============================] - 0s 60us/sample - loss: 0.5600 - accuracy: 0.8744\n",
      "7172/7172 [==============================] - 0s 61us/sample - loss: 0.6889 - accuracy: 0.8560\n",
      "7172/7172 [==============================] - 0s 62us/sample - loss: 0.6078 - accuracy: 0.8939\n",
      "7172/7172 [==============================] - 1s 72us/sample - loss: 0.9017 - accuracy: 0.8689\n",
      "7172/7172 [==============================] - 0s 59us/sample - loss: 0.9242 - accuracy: 0.8688\n",
      "7172/7172 [==============================] - 1s 70us/sample - loss: 1.1373 - accuracy: 0.8186\n",
      "7172/7172 [==============================] - 0s 68us/sample - loss: 1.4465 - accuracy: 0.7751\n",
      "7172/7172 [==============================] - 0s 62us/sample - loss: 1.5541 - accuracy: 0.7812\n",
      "7172/7172 [==============================] - 0s 67us/sample - loss: 1.9996 - accuracy: 0.7563\n",
      "7172/7172 [==============================] - 0s 64us/sample - loss: 2.3046 - accuracy: 0.6893\n",
      "7172/7172 [==============================] - 0s 69us/sample - loss: 3.6140 - accuracy: 0.0735\n"
     ]
    }
   ],
   "source": [
    "lamb = [0]+list(np.logspace(-3, -0.5, 11))\n",
    "acc = []\n",
    "for l in lamb:\n",
    "    acc.append(run_model(0.002, 256, 200, l1(l)))"
   ]
  },
  {
   "cell_type": "code",
   "execution_count": 30,
   "id": "innocent-storage",
   "metadata": {},
   "outputs": [],
   "source": [
    "pd.DataFrame([lamb, acc]).transpose().to_csv('Figures\\\\CNN test vs lambda l1.csv')"
   ]
  },
  {
   "cell_type": "code",
   "execution_count": 31,
   "id": "extreme-singer",
   "metadata": {},
   "outputs": [
    {
     "data": {
      "image/png": "[encoded data removed]",
      "text/plain": [
       "<Figure size 460.8x403.2 with 1 Axes>"
      ]
     },
     "metadata": {},
     "output_type": "display_data"
    }
   ],
   "source": [
    "from jupyterthemes import jtplot\n",
    "jtplot.style(theme='monokai')\n",
    "\n",
    "plt.plot(acc)\n",
    "plt.xlabel('Lambda (l1)')\n",
    "plt.ylabel('Test Accuracy')\n",
    "plt.title('Test Accuracy vs Lambda (l1)')\n",
    "plt.tick_params(\n",
    "    axis='x',          # changes apply to the x-axis\n",
    "    which='both',      # both major and minor ticks are affected\n",
    "    bottom=False,      # ticks along the bottom edge are off\n",
    "    top=False,         # ticks along the top edge are off\n",
    "    labelbottom=False)\n",
    "plt.savefig('Figures\\\\CNN test vs lambda l1.jpg', dpi=500)"
   ]
  },
  {
   "cell_type": "code",
   "execution_count": null,
   "id": "recent-shade",
   "metadata": {},
   "outputs": [],
   "source": []
  }
 ],
 "metadata": {
  "kernelspec": {
   "display_name": "Python 3.7 (tensorflow)",
   "language": "python",
   "name": "tensorflow"
  },
  "language_info": {
   "codemirror_mode": {
    "name": "ipython",
    "version": 3
   },
   "file_extension": ".py",
   "mimetype": "text/x-python",
   "name": "python",
   "nbconvert_exporter": "python",
   "pygments_lexer": "ipython3",
   "version": "3.7.9"
  }
 },
 "nbformat": 4,
 "nbformat_minor": 5
}
