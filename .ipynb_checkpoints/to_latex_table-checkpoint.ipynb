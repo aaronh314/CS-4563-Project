{
 "cells": [
  {
   "cell_type": "code",
   "execution_count": 2,
   "id": "spatial-rebecca",
   "metadata": {},
   "outputs": [
    {
     "data": {
      "text/plain": [
       "'\\n\\x08egin{tabular}{|c c c c|} \\n \\\\hline\\n Col1 & Col2 & Col2 & Col3 \\\\\\n \\\\hline\\\\hline\\n 1 & 6 & 87837 & 787 \\\\ \\n \\\\hline\\n 2 & 7 & 78 & 5415 \\\\\\n \\\\hline\\n 3 & 545 & 778 & 7507 \\\\\\n \\\\hline\\n 4 & 545 & 18744 & 7560 \\\\\\n \\\\hline\\n 5 & 88 & 788 & 6344 \\\\\\n \\\\hline\\n\\\\end{tabular}\\n\\n'"
      ]
     },
     "execution_count": 2,
     "metadata": {},
     "output_type": "execute_result"
    }
   ],
   "source": [
    "'''\n",
    "\\begin{tabular}{|c c c c|} \n",
    " \\hline\n",
    " Col1 & Col2 & Col2 & Col3 \\\\\n",
    " \\hline\\hline\n",
    " 1 & 6 & 87837 & 787 \\\\ \n",
    " \\hline\n",
    " 2 & 7 & 78 & 5415 \\\\\n",
    " \\hline\n",
    " 3 & 545 & 778 & 7507 \\\\\n",
    " \\hline\n",
    " 4 & 545 & 18744 & 7560 \\\\\n",
    " \\hline\n",
    " 5 & 88 & 788 & 6344 \\\\\n",
    " \\hline\n",
    "\\end{tabular}\n",
    "\n",
    "'''"
   ]
  },
  {
   "cell_type": "code",
   "execution_count": 6,
   "id": "third-pitch",
   "metadata": {},
   "outputs": [],
   "source": [
    "import pandas as pd\n",
    "import matplotlib.pyplot as plt\n",
    "import numpy as np"
   ]
  },
  {
   "cell_type": "code",
   "execution_count": 4,
   "id": "literary-organization",
   "metadata": {},
   "outputs": [],
   "source": [
    "file_dir = \"./Figures/CNN/CNN test vs lr.csv\"\n",
    "df = pd.read_csv(file_dir, usecols=range(1,3))\n",
    "vals = df.values\n",
    "cols = list(df.columns)"
   ]
  },
  {
   "cell_type": "code",
   "execution_count": 62,
   "id": "designing-button",
   "metadata": {},
   "outputs": [
    {
     "data": {
      "text/plain": [
       "Text(0.5, 1.0, 'accuracy vs learning rate')"
      ]
     },
     "execution_count": 62,
     "metadata": {},
     "output_type": "execute_result"
    },
    {
     "data": {
      "image/png": "[encoded data removed]",
      "text/plain": [
       "<Figure size 432x288 with 1 Axes>"
      ]
     },
     "metadata": {
      "needs_background": "light"
     },
     "output_type": "display_data"
    }
   ],
   "source": [
    "plt.plot(df[cols[0]], df[cols[1]])\n",
    "plt.xlabel(cols[0] + \" (log scale)\")\n",
    "plt.ylabel(cols[1])\n",
    "plt.title(cols[1] + \" vs \" + cols[0])\n",
    "plt.savefig()"
   ]
  },
  {
   "cell_type": "code",
   "execution_count": 12,
   "id": "peripheral-volume",
   "metadata": {},
   "outputs": [
    {
     "name": "stdout",
     "output_type": "stream",
     "text": [
      "\\begin{tabular}{|c|c|}\n",
      "\\hline\n",
      "learning rate & accuracy \\\\\n",
      "\\hline\n",
      "-3.0 & 86.92\\% \\\\\n",
      "\\hline\n",
      "\\textbf{-2.75} & \\textbf{91.27\\%} \\\\\n",
      "\\hline\n",
      "-2.5 & 87.8\\% \\\\\n",
      "\\hline\n",
      "-2.25 & 76.78\\% \\\\\n",
      "\\hline\n",
      "-2.0 & 81.47\\% \\\\\n",
      "\\hline\n",
      "-1.75 & 76.62\\% \\\\\n",
      "\\hline\n",
      "-1.5 & 5.58\\% \\\\\n",
      "\\hline\n",
      "-1.25 & 3.39\\% \\\\\n",
      "\\hline\n",
      "-1.0 & 6.94\\% \\\\\n",
      "\\hline\n",
      "-0.75 & 3.72\\% \\\\\n",
      "\\hline\n",
      "-0.5 & 4.36\\% \\\\\n",
      "\\hline\n",
      "\\end{tabular}\n"
     ]
    }
   ],
   "source": [
    "a = [\"c\" for _ in range(len(cols))]\n",
    "print(\"\\\\begin{tabular}\", end=\"\")\n",
    "print(\"{|\", end=\"\")\n",
    "print('|'.join(a), end=\"\")\n",
    "print(\"|}\")\n",
    "print(\"\\\\hline\")\n",
    "print(\" & \".join(cols), \"\\\\\\\\\")\n",
    "print(\"\\\\hline\")\n",
    "max_ind = np.argmax(vals[:, 1])\n",
    "for i in range(vals.shape[0]):\n",
    "    val = [round(float(a), 5) for a in vals[i, :]]\n",
    "    val[0] = str(val[0]) if i != max_ind else \"\\\\textbf{\"+str(val[0])+\"}\"\n",
    "    for a in range(1, len(val)):\n",
    "        if i == max_ind:\n",
    "            val[a] = \"\\\\textbf{\"+str(round(val[a]*100,2))+\"\\%\"+\"}\"\n",
    "        else:\n",
    "            val[a] = str(round(val[a]*100,2))+\"\\%\"\n",
    "    print(\" & \".join(val), \"\\\\\\\\\")\n",
    "    print(\"\\\\hline\")\n",
    "print(\"\\\\end{tabular}\")"
   ]
  },
  {
   "cell_type": "code",
   "execution_count": null,
   "id": "eleven-flooring",
   "metadata": {},
   "outputs": [],
   "source": []
  }
 ],
 "metadata": {
  "kernelspec": {
   "display_name": "Python 3.7 (tensorflow)",
   "language": "python",
   "name": "tensorflow"
  },
  "language_info": {
   "codemirror_mode": {
    "name": "ipython",
    "version": 3
   },
   "file_extension": ".py",
   "mimetype": "text/x-python",
   "name": "python",
   "nbconvert_exporter": "python",
   "pygments_lexer": "ipython3",
   "version": "3.7.9"
  }
 },
 "nbformat": 4,
 "nbformat_minor": 5
}
