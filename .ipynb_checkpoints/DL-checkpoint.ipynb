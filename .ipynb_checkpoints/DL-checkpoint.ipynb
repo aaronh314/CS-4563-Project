{
 "cells": [
  {
   "cell_type": "code",
   "execution_count": 17,
   "id": "wrapped-ability",
   "metadata": {},
   "outputs": [],
   "source": [
    "from sklearn.preprocessing import *\n",
    "from tensorflow.keras.layers import *\n",
    "from tensorflow.keras.models import *\n",
    "from tensorflow.keras.optimizers import *\n",
    "from tensorflow.keras.initializers import GlorotNormal\n",
    "from tensorflow.keras.regularizers import l1, l2\n",
    "# from sklearn.metrics import accuracy_score\n",
    "\n",
    "from tensorflow.keras.callbacks import EarlyStopping\n",
    "\n",
    "from sklearn.model_selection import train_test_split\n",
    "\n",
    "import sklearn\n",
    "import numpy as np\n",
    "import matplotlib.pyplot as plt \n",
    "import pandas as pd\n",
    "from jupyterthemes import jtplot\n",
    "jtplot.style(theme='monokai')"
   ]
  },
  {
   "cell_type": "code",
   "execution_count": 2,
   "id": "surprised-bulgarian",
   "metadata": {},
   "outputs": [],
   "source": [
    "def to_cat(y, num_cats):\n",
    "    res = []\n",
    "    for i in range(y.shape[0]):\n",
    "        label = [0]*num_cats\n",
    "        label[y[i]] = 1\n",
    "        res.append(label)\n",
    "    return np.array(res)"
   ]
  },
  {
   "cell_type": "code",
   "execution_count": 3,
   "id": "different-printing",
   "metadata": {},
   "outputs": [],
   "source": [
    "def accuracy(y_pred, y):\n",
    "    num_correct = 0\n",
    "    for i in range(y_pred.shape[0]):\n",
    "        num_correct += y_pred[i].argmax() == y[i].argmax()\n",
    "    return num_correct / y_pred.shape[0]"
   ]
  },
  {
   "cell_type": "markdown",
   "id": "minus-curtis",
   "metadata": {},
   "source": [
    "# Load and Scale Data"
   ]
  },
  {
   "cell_type": "code",
   "execution_count": 4,
   "id": "greater-correspondence",
   "metadata": {},
   "outputs": [],
   "source": [
    "pddata_train = pd.read_csv('Data/sign_mnist_train.csv')\n",
    "data_train = pddata_train.values\n",
    "data_train_X = data_train[:,1:]\n",
    "data_train_y = data_train[:,:1].reshape(-1) # turn to 1d\n",
    "data_train_y = to_cat(data_train_y, 26)\n",
    "\n",
    "test_size = 0.1\n",
    "test_ind = int(test_size*data_train_X.shape[0])\n",
    "data_train_X, data_val_X, data_train_y, data_val_y = data_train_X[test_ind:], data_train_X[:test_ind],data_train_y[test_ind:], data_train_y[:test_ind]\n",
    "\n",
    "\n",
    "pddata_test = pd.read_csv('Data/sign_mnist_test.csv')\n",
    "data_test = pddata_test.values\n",
    "data_test_X = data_test[:, 1:]\n",
    "data_test_y = data_test[:, :1].reshape(-1) # turn to 1d\n",
    "data_test_y = to_cat(data_test_y, 26)\n",
    "\n",
    "# scaler = StandardScaler()\n",
    "# scaled_train_X = scaler.fit_transform(data_train_X)\n",
    "# scaled_test_X = scaler.transform(data_test_X)"
   ]
  },
  {
   "cell_type": "code",
   "execution_count": 5,
   "id": "understanding-diary",
   "metadata": {},
   "outputs": [
    {
     "data": {
      "text/plain": [
       "(7172, 784)"
      ]
     },
     "execution_count": 5,
     "metadata": {},
     "output_type": "execute_result"
    }
   ],
   "source": [
    "data_test_X.shape"
   ]
  },
  {
   "cell_type": "code",
   "execution_count": 6,
   "id": "rural-restriction",
   "metadata": {},
   "outputs": [
    {
     "name": "stdout",
     "output_type": "stream",
     "text": [
      "There are 24710 training samples\n",
      "There are 7172 training samples\n"
     ]
    }
   ],
   "source": [
    "print(f\"There are {data_train_X.shape[0]} training samples\")\n",
    "print(f\"There are {data_test_X.shape[0]} training samples\")"
   ]
  },
  {
   "cell_type": "markdown",
   "id": "attached-celebration",
   "metadata": {},
   "source": [
    "# Dense Neural Network"
   ]
  },
  {
   "cell_type": "code",
   "execution_count": 6,
   "id": "russian-daniel",
   "metadata": {},
   "outputs": [],
   "source": [
    "def create_dnn(num_input, layers, activations, dropouts, regularizations, optimizer):\n",
    "    model = Sequential()\n",
    "    model.add(Input(shape=(num_input,)))\n",
    "    for num_nodes, act, dr, reg in zip(layers, activations, dropouts, regularizations):\n",
    "        model.add(Dense(num_nodes, activation=act, kernel_regularizer=reg))\n",
    "        if dr != 0:\n",
    "            model.add(Dropout(dr))\n",
    "            \n",
    "    model.compile(loss='categorical_crossentropy', optimizer=optimizer, metrics=['accuracy'])\n",
    "    return model"
   ]
  },
  {
   "cell_type": "markdown",
   "id": "cooperative-overhead",
   "metadata": {},
   "source": [
    "# Testing Dense Neural Network"
   ]
  },
  {
   "cell_type": "code",
   "execution_count": 7,
   "id": "successful-rainbow",
   "metadata": {},
   "outputs": [],
   "source": [
    "# layers = [26]\n",
    "# activations = ['softmax']\n",
    "# dropouts=[0, 0, 0, 0]\n",
    "# optimizer=Adam(0.01)\n",
    "# regularizations = [\n",
    "#     l2(0.01)\n",
    "# ]\n",
    "# epochs=200\n",
    "# batch_size=256\n",
    "\n",
    "# early_stop = EarlyStopping(\n",
    "#     monitor=\"loss\",\n",
    "#     min_delta=0,\n",
    "#     patience=10,\n",
    "#     verbose=0,\n",
    "#     mode=\"auto\",\n",
    "#     baseline=None,\n",
    "#     restore_best_weights=True,\n",
    "# )\n",
    "\n",
    "# model = create_dnn(data_train_X[0].shape[0], layers, activations, dropouts, regularizations, optimizer)\n",
    "\n",
    "# model.summary()\n",
    "\n",
    "# model.fit(data_train_X, data_train_y, validation_data=(data_val_X, data_val_y), epochs=epochs, batch_size=batch_size, verbose=1)"
   ]
  },
  {
   "cell_type": "code",
   "execution_count": 8,
   "id": "vietnamese-estonia",
   "metadata": {},
   "outputs": [],
   "source": [
    "# model.evaluate(data_test_X, data_test_y)"
   ]
  },
  {
   "cell_type": "markdown",
   "id": "persistent-restriction",
   "metadata": {},
   "source": [
    "# Convolutional Neural Network"
   ]
  },
  {
   "cell_type": "markdown",
   "id": "exceptional-stephen",
   "metadata": {},
   "source": [
    "## Loading Data"
   ]
  },
  {
   "cell_type": "code",
   "execution_count": 14,
   "id": "overall-philippines",
   "metadata": {},
   "outputs": [],
   "source": [
    "pddata_train = pd.read_csv('Data/sign_mnist_train.csv')\n",
    "data_train = pddata_train.values\n",
    "data_train_X = data_train[:,1:]\n",
    "data_train_X = data_train_X.reshape((data_train_X.shape[0], 28,28,1))\n",
    "data_train_y = data_train[:,:1].reshape(-1) # turn to 1d\n",
    "data_train_y = to_cat(data_train_y, 26)\n",
    "\n",
    "test_size = 0.1\n",
    "test_ind = int(test_size*data_train_X.shape[0])\n",
    "data_train_X, data_val_X, data_train_y, data_val_y = data_train_X[test_ind:], data_train_X[:test_ind],data_train_y[test_ind:], data_train_y[:test_ind]\n",
    "\n",
    "\n",
    "pddata_test = pd.read_csv('Data/sign_mnist_test.csv')\n",
    "data_test = pddata_test.values\n",
    "data_test_X = data_test[:, 1:]\n",
    "data_test_X = data_test_X.reshape((data_test_X.shape[0], 28,28,1))\n",
    "data_test_y = data_test[:, :1].reshape(-1) # turn to 1d\n",
    "data_test_y = to_cat(data_test_y, 26)\n",
    "\n",
    "# scaler = StandardScaler()\n",
    "# scaled_train_X = scaler.fit_transform(data_train_X)\n",
    "# scaled_test_X = scaler.transform(data_test_X)"
   ]
  },
  {
   "cell_type": "code",
   "execution_count": 38,
   "id": "identical-sustainability",
   "metadata": {},
   "outputs": [],
   "source": [
    "import visualkeras\n",
    "from PIL import ImageFont\n",
    "example = create_cnn((28,28,1), Adam(1), l2(0))\n",
    "font = ImageFont.truetype(\"arial.ttf\", 10)\n",
    "visualkeras.layered_view(example, legend=True, font=font, to_file='./Figures//CNN//architecture.png').show()"
   ]
  },
  {
   "cell_type": "code",
   "execution_count": null,
   "id": "alert-intro",
   "metadata": {},
   "outputs": [],
   "source": []
  },
  {
   "cell_type": "code",
   "execution_count": 31,
   "id": "disabled-health",
   "metadata": {},
   "outputs": [],
   "source": [
    "def create_cnn(input_shape, optimizer, regularizer):\n",
    "    model = Sequential()\n",
    "    spacing=20\n",
    "    model.add(Input(shape=input_shape))\n",
    "    model.add(Conv2D(8, 3, activation='selu', padding='same', kernel_initializer=GlorotNormal(seed=42)))\n",
    "    model.add(visualkeras.SpacingDummyLayer(spacing=spacing))\n",
    "    model.add(MaxPooling2D(2))\n",
    "    model.add(visualkeras.SpacingDummyLayer(spacing=spacing))\n",
    "    model.add(Conv2D(4, 2, activation='selu', padding='same', kernel_initializer=GlorotNormal(seed=42)))\n",
    "    model.add(visualkeras.SpacingDummyLayer(spacing=spacing))\n",
    "    model.add(MaxPooling2D(2))\n",
    "    model.add(visualkeras.SpacingDummyLayer(spacing=spacing))\n",
    "    model.add(Flatten())\n",
    "    model.add(visualkeras.SpacingDummyLayer(spacing=spacing))\n",
    "    model.add(Dropout(0.5))\n",
    "    model.add(visualkeras.SpacingDummyLayer(spacing=spacing))\n",
    "    model.add(Dense(26, activation='softmax', kernel_regularizer=regularizer, kernel_initializer=GlorotNormal(seed=42)))\n",
    "    \n",
    "    model.compile(loss='categorical_crossentropy', optimizer=optimizer, metrics=['accuracy'])\n",
    "    \n",
    "    return model"
   ]
  },
  {
   "cell_type": "code",
   "execution_count": 8,
   "id": "billion-northwest",
   "metadata": {},
   "outputs": [],
   "source": [
    "def run_model(lr, batch_size, epochs, reg, X_train = data_train_X, y_train = data_train_y, X_test = data_test_X, y_test = data_test_y):\n",
    "    model = create_cnn((28, 28,1), Adam(lr), reg)\n",
    "\n",
    "    early_stop = EarlyStopping(\n",
    "        monitor=\"loss\",\n",
    "        min_delta=0,\n",
    "        patience=10,\n",
    "        verbose=0,\n",
    "        mode=\"auto\",\n",
    "        baseline=None,\n",
    "        restore_best_weights=True,\n",
    "    )\n",
    "\n",
    "    model.fit(X_train, y_train, batch_size=batch_size, epochs=epochs, callbacks=[early_stop], verbose=0)\n",
    "    \n",
    "    results = model.evaluate(X_test, y_test)\n",
    "    return results[1]"
   ]
  },
  {
   "cell_type": "markdown",
   "id": "developmental-rebate",
   "metadata": {},
   "source": [
    "## Testing Different Learning Rates"
   ]
  },
  {
   "cell_type": "code",
   "execution_count": 8,
   "id": "expanded-creature",
   "metadata": {
    "scrolled": false
   },
   "outputs": [
    {
     "name": "stdout",
     "output_type": "stream",
     "text": [
      "7172/7172 [==============================] - 0s 61us/sample - loss: 0.4329 - accuracy: 0.8692\n",
      "7172/7172 [==============================] - 0s 59us/sample - loss: 0.2841 - accuracy: 0.9127\n",
      "7172/7172 [==============================] - 0s 51us/sample - loss: 0.3683 - accuracy: 0.8780\n",
      "7172/7172 [==============================] - 0s 51us/sample - loss: 0.7390 - accuracy: 0.7678\n",
      "7172/7172 [==============================] - 0s 52us/sample - loss: 0.6115 - accuracy: 0.8147\n",
      "7172/7172 [==============================] - 0s 55us/sample - loss: 0.7098 - accuracy: 0.7662\n",
      "7172/7172 [==============================] - 0s 60us/sample - loss: 3.4610 - accuracy: 0.0558\n",
      "7172/7172 [==============================] - 0s 55us/sample - loss: 4.7341 - accuracy: 0.0339\n",
      "7172/7172 [==============================] - 0s 59us/sample - loss: 5.4107 - accuracy: 0.0694\n",
      "7172/7172 [==============================] - 0s 53us/sample - loss: 7.6517 - accuracy: 0.0372\n",
      "7172/7172 [==============================] - 0s 59us/sample - loss: 37.8533 - accuracy: 0.0436\n"
     ]
    }
   ],
   "source": [
    "lr = np.logspace(-3, -0.5, 11)\n",
    "acc = []\n",
    "for l in lr:\n",
    "    acc.append(run_model(l, 256, 200, l2(0)))"
   ]
  },
  {
   "cell_type": "code",
   "execution_count": 16,
   "id": "cathedral-finance",
   "metadata": {},
   "outputs": [
    {
     "data": {
      "image/png": "[encoded data removed]",
      "text/plain": [
       "<Figure size 460.8x403.2 with 1 Axes>"
      ]
     },
     "metadata": {},
     "output_type": "display_data"
    }
   ],
   "source": [
    "plt.plot(np.linspace(-3, -0.5,11), acc)\n",
    "plt.xlabel('Learning Rate (Log Scale)')\n",
    "plt.ylabel('Test Accuracy')\n",
    "plt.title('Test Accuracy vs Learning Rate')\n",
    "name = \"CNN test vs lr\"\n",
    "plt.savefig(f'Figures\\\\CNN\\\\{name}.jpg', dpi=500)\n",
    "plt.plot()\n",
    "\n",
    "pd.DataFrame([np.linspace(-3, -0.5,11), acc], index=['learning rate', 'accuracy']).transpose().to_csv(f'./Figures/CNN/{name}.csv')"
   ]
  },
  {
   "cell_type": "markdown",
   "id": "behavioral-collective",
   "metadata": {},
   "source": [
    "## Testing Different Learning Batch Sizes"
   ]
  },
  {
   "cell_type": "code",
   "execution_count": 7,
   "id": "peaceful-fifteen",
   "metadata": {},
   "outputs": [
    {
     "name": "stdout",
     "output_type": "stream",
     "text": [
      "7172/7172 [==============================] - 0s 65us/sample - loss: 0.6317 - accuracy: 0.8048\n",
      "7172/7172 [==============================] - 0s 64us/sample - loss: 0.6512 - accuracy: 0.7883\n",
      "7172/7172 [==============================] - 0s 65us/sample - loss: 0.5865 - accuracy: 0.8497\n",
      "7172/7172 [==============================] - 0s 62us/sample - loss: 0.3934 - accuracy: 0.8861\n",
      "7172/7172 [==============================] - 0s 59us/sample - loss: 0.3103 - accuracy: 0.9084\n",
      "7172/7172 [==============================] - 0s 54us/sample - loss: 0.4116 - accuracy: 0.8769\n",
      "7172/7172 [==============================] - 0s 58us/sample - loss: 0.4549 - accuracy: 0.8868\n",
      "7172/7172 [==============================] - 1s 81us/sample - loss: 0.3622 - accuracy: 0.9011\n",
      "7172/7172 [==============================] - 0s 59us/sample - loss: 0.4908 - accuracy: 0.8463\n"
     ]
    }
   ],
   "source": [
    "batches = [4, 8, 16, 32, 64, 128, 256, 512, 1024]\n",
    "acc = []\n",
    "for b in batches:\n",
    "    acc.append(run_model(0.002, b, 200, l2(0)))"
   ]
  },
  {
   "cell_type": "code",
   "execution_count": 10,
   "id": "bottom-apollo",
   "metadata": {},
   "outputs": [
    {
     "data": {
      "image/png": "[encoded data removed]",
      "text/plain": [
       "<Figure size 460.8x403.2 with 1 Axes>"
      ]
     },
     "metadata": {},
     "output_type": "display_data"
    }
   ],
   "source": [
    "plt.plot(list(range(2,11)), acc)\n",
    "plt.xlabel('Batch Size (Log Scale)')\n",
    "plt.ylabel('Test Accuracy')\n",
    "plt.title('Test Accuracy vs Batch Size')\n",
    "name = \"CNN test vs batch size\"\n",
    "plt.savefig(f'Figures\\\\CNN\\\\{name}.jpg', dpi=500)\n",
    "plt.plot()\n",
    "\n",
    "pd.DataFrame([list(range(2,11)), acc], index=['batch size (log)', 'accuracy']).transpose().to_csv(f'./Figures/CNN/{name}.csv')"
   ]
  },
  {
   "cell_type": "markdown",
   "id": "fluid-learning",
   "metadata": {},
   "source": [
    "## Testing Different Lambdas for l1 Regularization"
   ]
  },
  {
   "cell_type": "code",
   "execution_count": 11,
   "id": "lonely-business",
   "metadata": {},
   "outputs": [
    {
     "name": "stdout",
     "output_type": "stream",
     "text": [
      "7172/7172 [==============================] - 0s 51us/sample - loss: 0.3887 - accuracy: 0.8815\n",
      "7172/7172 [==============================] - 0s 59us/sample - loss: 0.5631 - accuracy: 0.8712\n",
      "7172/7172 [==============================] - 0s 52us/sample - loss: 0.6668 - accuracy: 0.8423\n",
      "7172/7172 [==============================] - 0s 56us/sample - loss: 0.6792 - accuracy: 0.8905\n",
      "7172/7172 [==============================] - 0s 60us/sample - loss: 0.8741 - accuracy: 0.8373\n",
      "7172/7172 [==============================] - 0s 61us/sample - loss: 0.9368 - accuracy: 0.8695\n",
      "7172/7172 [==============================] - 0s 59us/sample - loss: 1.1463 - accuracy: 0.8031\n",
      "7172/7172 [==============================] - 1s 88us/sample - loss: 1.3484 - accuracy: 0.8158\n",
      "7172/7172 [==============================] - 0s 56us/sample - loss: 1.4964 - accuracy: 0.8132\n",
      "7172/7172 [==============================] - 0s 61us/sample - loss: 2.0242 - accuracy: 0.6898\n",
      "7172/7172 [==============================] - 0s 60us/sample - loss: 2.4958 - accuracy: 0.6011\n",
      "7172/7172 [==============================] - 0s 60us/sample - loss: 3.6140 - accuracy: 0.0201\n"
     ]
    }
   ],
   "source": [
    "lamb = [0]+list(np.logspace(-3, -0.5, 11))\n",
    "acc = []\n",
    "for l in lamb:\n",
    "    acc.append(run_model(0.002, 256, 200, l1(l)))"
   ]
  },
  {
   "cell_type": "code",
   "execution_count": 13,
   "id": "aquatic-ministry",
   "metadata": {},
   "outputs": [
    {
     "data": {
      "image/png": "[encoded data removed]",
      "text/plain": [
       "<Figure size 460.8x403.2 with 1 Axes>"
      ]
     },
     "metadata": {},
     "output_type": "display_data"
    }
   ],
   "source": [
    "plt.plot(acc)\n",
    "plt.xlabel('Lambda')\n",
    "plt.ylabel('Test Accuracy')\n",
    "plt.title('Test Accuracy vs Lambda (l1)')\n",
    "\n",
    "plt.tick_params(\n",
    "    axis='x',  \n",
    "    which='both',   \n",
    "    bottom=False,  \n",
    "    top=False,     \n",
    "    labelbottom=False)\n",
    "\n",
    "name = \"CNN test vs lambda (l1)\"\n",
    "plt.savefig(f'Figures\\\\CNN\\\\{name}.jpg', dpi=500)\n",
    "plt.plot()\n",
    "\n",
    "pd.DataFrame([lamb, acc], index=['lambda (l1)', 'accuracy']).transpose().to_csv(f'./Figures/CNN/{name}.csv')"
   ]
  },
  {
   "cell_type": "markdown",
   "id": "electronic-surfing",
   "metadata": {},
   "source": [
    "## Testing Different Lambdas for l2 Regularization"
   ]
  },
  {
   "cell_type": "code",
   "execution_count": 16,
   "id": "pediatric-radio",
   "metadata": {},
   "outputs": [
    {
     "name": "stdout",
     "output_type": "stream",
     "text": [
      "7172/7172 [==============================] - 0s 59us/sample - loss: 0.3575 - accuracy: 0.9004\n",
      "7172/7172 [==============================] - 0s 59us/sample - loss: 0.3497 - accuracy: 0.8936\n",
      "7172/7172 [==============================] - 0s 60us/sample - loss: 0.4452 - accuracy: 0.8836\n",
      "7172/7172 [==============================] - 1s 90us/sample - loss: 0.4279 - accuracy: 0.8765\n",
      "7172/7172 [==============================] - 0s 52us/sample - loss: 0.4920 - accuracy: 0.8618\n",
      "7172/7172 [==============================] - 0s 60us/sample - loss: 0.4133 - accuracy: 0.9126\n",
      "7172/7172 [==============================] - 0s 59us/sample - loss: 0.5049 - accuracy: 0.8753\n",
      "7172/7172 [==============================] - 0s 53us/sample - loss: 0.6803 - accuracy: 0.8309\n",
      "7172/7172 [==============================] - 0s 59us/sample - loss: 0.5689 - accuracy: 0.8635\n",
      "7172/7172 [==============================] - 0s 53us/sample - loss: 0.6083 - accuracy: 0.8503\n",
      "7172/7172 [==============================] - 1s 76us/sample - loss: 0.7175 - accuracy: 0.8634\n",
      "7172/7172 [==============================] - 0s 54us/sample - loss: 0.7492 - accuracy: 0.8429\n"
     ]
    }
   ],
   "source": [
    "lamb = [0]+list(np.logspace(-3, -0.5, 11))\n",
    "acc = []\n",
    "for l in lamb:\n",
    "    acc.append(run_model(0.002, 256, 200, l2(l)))"
   ]
  },
  {
   "cell_type": "code",
   "execution_count": 18,
   "id": "equal-carolina",
   "metadata": {},
   "outputs": [
    {
     "data": {
      "image/png": "[encoded data removed]",
      "text/plain": [
       "<Figure size 460.8x403.2 with 1 Axes>"
      ]
     },
     "metadata": {},
     "output_type": "display_data"
    }
   ],
   "source": [
    "plt.plot(acc)\n",
    "plt.xlabel('Lambda')\n",
    "plt.ylabel('Test Accuracy')\n",
    "plt.title('Test Accuracy vs Lambda (l2)')\n",
    "\n",
    "plt.tick_params(\n",
    "    axis='x',  \n",
    "    which='both',   \n",
    "    bottom=False,  \n",
    "    top=False,     \n",
    "    labelbottom=False)\n",
    "\n",
    "name = \"CNN test vs lambda (l2)\"\n",
    "plt.savefig(f'Figures\\\\CNN\\\\{name}.jpg', dpi=500)\n",
    "plt.plot()\n",
    "\n",
    "pd.DataFrame([lamb, acc], index=['lambda (l2)', 'accuracy']).transpose().to_csv(f'./Figures/CNN/{name}.csv')"
   ]
  },
  {
   "cell_type": "code",
   "execution_count": 30,
   "id": "bulgarian-tract",
   "metadata": {},
   "outputs": [],
   "source": [
    "pd.DataFrame([lamb, acc]).transpose().to_csv('Figures\\\\CNN test vs lambda l1.csv')"
   ]
  },
  {
   "cell_type": "markdown",
   "id": "short-appeal",
   "metadata": {},
   "source": [
    "## Testing Different Scalings"
   ]
  },
  {
   "cell_type": "code",
   "execution_count": 9,
   "id": "distributed-setting",
   "metadata": {},
   "outputs": [],
   "source": [
    "pddata_train = pd.read_csv('Data/sign_mnist_train.csv')\n",
    "data_train = pddata_train.values\n",
    "data_train_X = data_train[:,1:]\n",
    "data_train_y = data_train[:,:1].reshape(-1) # turn to 1d\n",
    "data_train_y = to_cat(data_train_y, 26)\n",
    "\n",
    "test_size = 0.1\n",
    "test_ind = int(test_size*data_train_X.shape[0])\n",
    "data_train_X, data_val_X, data_train_y, data_val_y = data_train_X[test_ind:], data_train_X[:test_ind],data_train_y[test_ind:], data_train_y[:test_ind]\n",
    "\n",
    "\n",
    "pddata_test = pd.read_csv('Data/sign_mnist_test.csv')\n",
    "data_test = pddata_test.values\n",
    "data_test_X = data_test[:, 1:]\n",
    "data_test_y = data_test[:, :1].reshape(-1) # turn to 1d\n",
    "data_test_y = to_cat(data_test_y, 26)\n",
    "\n",
    "mmscaler = MinMaxScaler()\n",
    "mmscaled_train_X = mmscaler.fit_transform(data_train_X)\n",
    "mmscaled_test_X = mmscaler.transform(data_test_X)\n",
    "\n",
    "stdscaler = StandardScaler()\n",
    "stdscaled_train_X = stdscaler.fit_transform(data_train_X)\n",
    "stdscaled_test_X = stdscaler.transform(data_test_X)\n",
    "\n",
    "mmscaled_train_X = mmscaled_train_X.reshape((mmscaled_train_X.shape[0], 28,28,1))\n",
    "mmscaled_test_X = mmscaled_test_X.reshape((mmscaled_test_X.shape[0], 28,28,1))\n",
    "stdscaled_train_X = stdscaled_train_X.reshape((stdscaled_train_X.shape[0], 28,28,1))\n",
    "stdscaled_test_X = stdscaled_test_X.reshape((stdscaled_test_X.shape[0], 28,28,1))\n",
    "data_train_X = data_train_X.reshape((data_train_X.shape[0], 28,28,1))\n",
    "data_test_X = data_test_X.reshape((data_test_X.shape[0], 28,28,1))"
   ]
  },
  {
   "cell_type": "code",
   "execution_count": 39,
   "id": "advised-jefferson",
   "metadata": {},
   "outputs": [
    {
     "name": "stdout",
     "output_type": "stream",
     "text": [
      "7172/7172 [==============================] - 0s 52us/sample - loss: 0.2864 - accuracy: 0.9101\n",
      "7172/7172 [==============================] - 0s 61us/sample - loss: 0.2947 - accuracy: 0.9109\n",
      "7172/7172 [==============================] - 0s 53us/sample - loss: 0.2603 - accuracy: 0.9226\n"
     ]
    },
    {
     "data": {
      "text/plain": [
       "0.9226157"
      ]
     },
     "execution_count": 39,
     "metadata": {},
     "output_type": "execute_result"
    }
   ],
   "source": [
    "run_model(0.002, 256, 200, l2(0), X_train=data_train_X, X_test=data_test_X)\n",
    "\n",
    "run_model(0.002, 256, 200, l2(0), X_train=mmscaled_train_X, X_test=mmscaled_test_X)\n",
    "\n",
    "run_model(0.002, 256, 200, l2(0), X_train=stdscaled_train_X, X_test=stdscaled_test_X)"
   ]
  }
 ],
 "metadata": {
  "kernelspec": {
   "display_name": "Python 3.7 (tensorflow)",
   "language": "python",
   "name": "tensorflow"
  },
  "language_info": {
   "codemirror_mode": {
    "name": "ipython",
    "version": 3
   },
   "file_extension": ".py",
   "mimetype": "text/x-python",
   "name": "python",
   "nbconvert_exporter": "python",
   "pygments_lexer": "ipython3",
   "version": "3.7.9"
  }
 },
 "nbformat": 4,
 "nbformat_minor": 5
}
